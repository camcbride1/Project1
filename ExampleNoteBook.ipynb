{
 "cells": [
  {
   "cell_type": "markdown",
   "metadata": {},
   "source": [
    "# Basic Python Syntax"
   ]
  },
  {
   "cell_type": "markdown",
   "metadata": {},
   "source": [
    "### Comments"
   ]
  },
  {
   "cell_type": "code",
   "execution_count": 31,
   "metadata": {},
   "outputs": [],
   "source": [
    "#Comments:\n",
    "\n",
    "# This is a comment\n",
    "a = 'value'             # A comment can also be put after a line\n",
    "b = (10 - 9 + 8 - 7 +   # This is one way to do a multiline statement\n",
    "      6 - 5 + 4 - 3)\n",
    "c = 4; d = 5            # You can have multiple statements on one line if a semicolon is between them.\n"
   ]
  },
  {
   "cell_type": "markdown",
   "metadata": {},
   "source": [
    "### Indentation"
   ]
  },
  {
   "cell_type": "code",
   "execution_count": 32,
   "metadata": {},
   "outputs": [
    {
     "name": "stdout",
     "output_type": "stream",
     "text": [
      "Indentation matters\n",
      "It still matters\n"
     ]
    }
   ],
   "source": [
    "#Indentation:\n",
    "\n",
    "if d:                                   # No indentation. New block: indentation +1\n",
    "    print(\"Indentation matters\")        # One indentation\n",
    "    if d:                               # One indentation. New block: indentation +1\n",
    "        print(\"It still matters\")       # Two indentation. End block: indentation -1\n",
    "    else:                               # One indentation. New block: indentation +1\n",
    "        print(\"It still matter * 2\")    # Two indentation. End two blocks: indentation -2\n",
    "else:                                   # No indentation. New block: indentation +1\n",
    "        print(\"It still matter * 3\")    # Two indentation. End block: indentation -1"
   ]
  },
  {
   "cell_type": "markdown",
   "metadata": {},
   "source": [
    "### Parentheses"
   ]
  },
  {
   "cell_type": "code",
   "execution_count": 33,
   "metadata": {},
   "outputs": [
    {
     "name": "stdout",
     "output_type": "stream",
     "text": [
      "18\n",
      "22\n",
      "-12\n"
     ]
    }
   ],
   "source": [
    "#Parentheses:\n",
    "\n",
    "# Code follows basic order of operations with no parentheses\n",
    "print(2 + 7 * 3 - 5)    #18\n",
    "\n",
    "#Examples with parentheses\n",
    "print((2 + 7) * 3 - 5)  #22\n",
    "print(2 + 7 * (3 - 5))  #-12"
   ]
  },
  {
   "cell_type": "markdown",
   "metadata": {},
   "source": [
    "# Basic Python Semantics: Variables and Objects"
   ]
  },
  {
   "cell_type": "markdown",
   "metadata": {},
   "source": [
    "### Variables"
   ]
  },
  {
   "cell_type": "code",
   "execution_count": 34,
   "metadata": {},
   "outputs": [
    {
     "name": "stdout",
     "output_type": "stream",
     "text": [
      "True\n",
      "0x22750a663c0\n",
      "0x22750a663c0\n",
      "[5, 4]\n",
      "[5, 4]\n"
     ]
    }
   ],
   "source": [
    "# Variables:\n",
    "\n",
    "a = list()          # Create a list and assign it to a\n",
    "b = a               # Create b equal to a\n",
    "print(a is b)       # To show they both point to the same memory\n",
    "print(hex(id(a)))   # To show both memory address are the same\n",
    "print(hex(id(b))) \n",
    "\n",
    "a.append(5)         # Append value to both a and b\n",
    "b.append(4)\n",
    "\n",
    "print(a)            #Print a and b to show both change \n",
    "print(b)\n",
    "\n"
   ]
  },
  {
   "cell_type": "markdown",
   "metadata": {},
   "source": [
    "### Objects"
   ]
  },
  {
   "cell_type": "code",
   "execution_count": 35,
   "metadata": {},
   "outputs": [
    {
     "name": "stdout",
     "output_type": "stream",
     "text": [
      "<class 'int'>\n",
      "<class 'str'>\n",
      "<class 'list'>\n"
     ]
    }
   ],
   "source": [
    "# Objects:\n",
    "\n",
    "a = 123                 #Int\n",
    "b = \"This is a string\"  #String\n",
    "c = [1, 2, 3]           #List\n",
    "\n",
    "print(type(a))\n",
    "print(type(b))\n",
    "print(type(c))"
   ]
  },
  {
   "cell_type": "markdown",
   "metadata": {},
   "source": [
    "# Basic Python Semantics: Operators"
   ]
  },
  {
   "cell_type": "markdown",
   "metadata": {},
   "source": [
    "### Arithmetic Operations & Assignment Operations"
   ]
  },
  {
   "cell_type": "code",
   "execution_count": 36,
   "metadata": {},
   "outputs": [
    {
     "name": "stdout",
     "output_type": "stream",
     "text": [
      "10, -2, 24, 0.6666666666666666, 4096, 0, 4, -4\n"
     ]
    }
   ],
   "source": [
    "# Arithmetic Operations and Assignment Operations:\n",
    "\n",
    "a = 4                       # Assign two variables\n",
    "b = 6\n",
    "\n",
    "print(a + b, end =', ')     # Examples of all operations\n",
    "print(a - b, end =', ')\n",
    "print(a * b, end =', ')\n",
    "print(a / b, end =', ')\n",
    "print(a ** b, end =', ')\n",
    "print(a // b, end =', ')\n",
    "print(a % b, end =', ')\n",
    "print(-a)"
   ]
  },
  {
   "cell_type": "markdown",
   "metadata": {},
   "source": [
    "### Bitwise Operations"
   ]
  },
  {
   "cell_type": "code",
   "execution_count": 37,
   "metadata": {},
   "outputs": [
    {
     "name": "stdout",
     "output_type": "stream",
     "text": [
      "4, 6, 2, 256, 0, -5\n"
     ]
    }
   ],
   "source": [
    "# Bitwise Operations\n",
    "\n",
    "print(a & b, end =', ')     # Examples of bitwise operations\n",
    "print(a | b, end =', ')\n",
    "print(a ^ b, end =', ')\n",
    "print(a << b, end =', ')\n",
    "print(a >> b, end =', ')\n",
    "print(~a)"
   ]
  },
  {
   "cell_type": "markdown",
   "metadata": {},
   "source": [
    "### Comparison Operations"
   ]
  },
  {
   "cell_type": "code",
   "execution_count": 38,
   "metadata": {},
   "outputs": [
    {
     "name": "stdout",
     "output_type": "stream",
     "text": [
      "False\n",
      "True\n",
      "True\n"
     ]
    }
   ],
   "source": [
    "# Comparison Operations\n",
    "\n",
    "#a = 4\n",
    "#b = 6\n",
    "\n",
    "print(a % 2 == 1)   # Check if a is odd\n",
    "print(a < 5 < b)    # Logical expersion\n",
    "print(a != b)       # Ensure a and b are not equal"
   ]
  },
  {
   "cell_type": "markdown",
   "metadata": {},
   "source": [
    "### Boolean Operations"
   ]
  },
  {
   "cell_type": "code",
   "execution_count": 39,
   "metadata": {},
   "outputs": [
    {
     "name": "stdout",
     "output_type": "stream",
     "text": [
      "True\n",
      "True\n"
     ]
    }
   ],
   "source": [
    "# Boolean Operations\n",
    "\n",
    "a = 6\n",
    "b = 12\n",
    "c = 24\n",
    "\n",
    "print((a > 2) and (b < c))  # Example of boolean logic\n",
    "print((a > 2) or (b > c))   # Example of boolean logic"
   ]
  },
  {
   "cell_type": "markdown",
   "metadata": {},
   "source": [
    "### Identity and Membership Operations"
   ]
  },
  {
   "cell_type": "code",
   "execution_count": 40,
   "metadata": {},
   "outputs": [
    {
     "name": "stdout",
     "output_type": "stream",
     "text": [
      "False\n",
      "True\n",
      "False\n",
      "False\n"
     ]
    }
   ],
   "source": [
    "# Identity and Membership Operations\n",
    "\n",
    "a = [12, 5, 3]\n",
    "b = [3, 6, 24]\n",
    "c = [3, 6, 24]\n",
    "\n",
    "print(a == b)   # Check if the two list are equal \n",
    "print(c == b)\n",
    "\n",
    "print(a is b)   # Check if the two variables both point to the same list in memory\n",
    "print(b is c)\n",
    "\n",
    "\n"
   ]
  },
  {
   "cell_type": "markdown",
   "metadata": {},
   "source": [
    "# Built-In Types: Scalar Types"
   ]
  },
  {
   "cell_type": "markdown",
   "metadata": {},
   "source": [
    "### Integers "
   ]
  },
  {
   "cell_type": "code",
   "execution_count": 41,
   "metadata": {},
   "outputs": [
    {
     "name": "stdout",
     "output_type": "stream",
     "text": [
      "3.75\n",
      "3\n"
     ]
    }
   ],
   "source": [
    "# Integers\n",
    "\n",
    "a = 4           # Integer Declaration\n",
    "b = 8\n",
    "c = 15\n",
    "\n",
    "print(c / a)    # Python does not force integer division. \n",
    "print(c // a)   # This is the floor division operator, it mimics other languages' integer division"
   ]
  },
  {
   "cell_type": "markdown",
   "metadata": {},
   "source": [
    "### Floating Point Numbers"
   ]
  },
  {
   "cell_type": "code",
   "execution_count": 42,
   "metadata": {},
   "outputs": [],
   "source": [
    "# Floating Point Numbers\n",
    "\n",
    "a = 1.1e-4     # Floating Point Declarations\n",
    "b = 2.5 \n",
    "c = 3.4e4\n",
    "d = float(123)\n"
   ]
  },
  {
   "cell_type": "markdown",
   "metadata": {},
   "source": [
    "### Complex Numbers"
   ]
  },
  {
   "cell_type": "code",
   "execution_count": 43,
   "metadata": {},
   "outputs": [
    {
     "name": "stdout",
     "output_type": "stream",
     "text": [
      "4.0\n",
      "5.0\n"
     ]
    }
   ],
   "source": [
    "# Complex numbers\n",
    "\n",
    "# Complex Declarations\n",
    "a = complex(4, 5)   # 4 + 5j\n",
    "b = 4 + 5j\n",
    "\n",
    "print(a.real)       # Prints specific parts of complex number\n",
    "print(b.imag)"
   ]
  },
  {
   "cell_type": "markdown",
   "metadata": {},
   "source": [
    "### Strings"
   ]
  },
  {
   "cell_type": "code",
   "execution_count": 44,
   "metadata": {},
   "outputs": [
    {
     "name": "stdout",
     "output_type": "stream",
     "text": [
      "17\n",
      "THIS IS ALSO A MESSAGE\n",
      "This is a message | This is also a message\n",
      "i\n"
     ]
    }
   ],
   "source": [
    "# Strings\n",
    "\n",
    "str1 = 'This is a message'      # String Declaration\n",
    "str2 = 'This is also a message'\n",
    "\n",
    "# Below are some of the string methods that python offers\n",
    "\n",
    "print(len(str1))\n",
    "print(str2.upper())\n",
    "print(str1 + \" | \" + str2)\n",
    "print(str2[5])"
   ]
  },
  {
   "cell_type": "markdown",
   "metadata": {},
   "source": [
    "### None Type"
   ]
  },
  {
   "cell_type": "code",
   "execution_count": 45,
   "metadata": {},
   "outputs": [
    {
     "name": "stdout",
     "output_type": "stream",
     "text": [
      "None\n"
     ]
    }
   ],
   "source": [
    "# None Type\n",
    "\n",
    "exFunc = lambda:  None  # Function that returns None\n",
    "\n",
    "a = exFunc()            # Function Call\n",
    "print(a)                # Print Statement"
   ]
  },
  {
   "cell_type": "markdown",
   "metadata": {},
   "source": [
    "### Boolean Type"
   ]
  },
  {
   "cell_type": "code",
   "execution_count": 46,
   "metadata": {},
   "outputs": [
    {
     "name": "stdout",
     "output_type": "stream",
     "text": [
      "True, False, True, False\n"
     ]
    }
   ],
   "source": [
    "# Boolean Type\n",
    "\n",
    "a = True                # Boolean variable declaration\n",
    "b = False\n",
    "c = bool(127)           # True\n",
    "d = bool(0)             # False\n",
    "\n",
    "print(a, end = ', ')    # Print statements\n",
    "print(b, end = ', ')\n",
    "print(c, end = ', ')\n",
    "print(d)\n"
   ]
  },
  {
   "cell_type": "markdown",
   "metadata": {},
   "source": [
    "# Built-In Data Structures"
   ]
  },
  {
   "cell_type": "markdown",
   "metadata": {},
   "source": [
    "### Lists"
   ]
  },
  {
   "cell_type": "code",
   "execution_count": 47,
   "metadata": {},
   "outputs": [
    {
     "name": "stdout",
     "output_type": "stream",
     "text": [
      "[3, 2, 1, 4, 5, 17]\n",
      "[3, 2, 1, 4, 5, 17]\n",
      "[1, 2, 3, 4, 5, 17]\n",
      "[2, 3, 4]\n"
     ]
    }
   ],
   "source": [
    "# Lists\n",
    "\n",
    "lyst = [3, 2, 1, 4, 5]      # Both are valid lsit constructors\n",
    "lyst1 = list()\n",
    "\n",
    "lyst.append(17)             # Append method\n",
    "print(lyst)\n",
    "\n",
    "print(lyst1 + lyst)         # Append one list to another\n",
    "\n",
    "lyst.sort()                 # Sort lyst in place and print\n",
    "print(lyst)\n",
    "\n",
    "print(lyst[1:4])            # String slicing"
   ]
  },
  {
   "cell_type": "markdown",
   "metadata": {},
   "source": [
    "### Tuples"
   ]
  },
  {
   "cell_type": "code",
   "execution_count": 48,
   "metadata": {},
   "outputs": [
    {
     "name": "stdout",
     "output_type": "stream",
     "text": [
      "Tuples are immutable, meaning they cannot be edited at run time. For that reason, they are commonly used as a way to return multiple values\n"
     ]
    }
   ],
   "source": [
    "#Tuples\n",
    "\n",
    "typle = (2, 4, 6, 8 )   # Declaration\n",
    "\n",
    "try:\n",
    "    typle[2] = 8        # Will not work, tuples are immutable\n",
    "except:\n",
    "    print(\"Tuples are immutable, meaning they cannot be edited at run time. For that reason, they are commonly used as a way to return multiple values\")"
   ]
  },
  {
   "cell_type": "markdown",
   "metadata": {},
   "source": [
    "### Dictionaries"
   ]
  },
  {
   "cell_type": "code",
   "execution_count": 49,
   "metadata": {},
   "outputs": [
    {
     "name": "stdout",
     "output_type": "stream",
     "text": [
      "4\n",
      "{'val1': 2, 'val2': 4, 'val3': 10, 'val4': 16}\n",
      "{'val1': 2, 'val2': 4, 'val3': 10, 'val4': 16, 'val5': 32}\n"
     ]
    }
   ],
   "source": [
    "# Dictionaries\n",
    "\n",
    "dyct = {'val1': 2, 'val2': 4, 'val3': 8, 'val4': 16,}       # Declare dictionary\n",
    "print(dyct['val2'])                                         # Print the value a key 'val2'\n",
    "\n",
    "dyct['val3'] = 10                                           # Change the value at key 'val3'\n",
    "print(dyct)\n",
    "\n",
    "dyct['val5'] = 32                                           # Add key 'val5' with a value\n",
    "print(dyct)"
   ]
  },
  {
   "cell_type": "markdown",
   "metadata": {},
   "source": [
    "### Sets"
   ]
  },
  {
   "cell_type": "code",
   "execution_count": 50,
   "metadata": {},
   "outputs": [
    {
     "name": "stdout",
     "output_type": "stream",
     "text": [
      "{3, 4, 6, 8, 9, 12, 15, 16, 18, 20, 24}\n",
      "{12}\n",
      "{3, 6, 9, 15, 18}\n"
     ]
    }
   ],
   "source": [
    "# Sets\n",
    "\n",
    "a = {3, 6, 9, 12, 15, 18}   # Declare sets\n",
    "b = {4, 8, 12, 16, 20, 24}\n",
    "\n",
    "print(a.union(b))           # Union\n",
    "print(a.intersection(b))    # Intersection\n",
    "print(a.difference(b))      # Difference"
   ]
  },
  {
   "cell_type": "markdown",
   "metadata": {},
   "source": [
    "# Control Flow"
   ]
  },
  {
   "cell_type": "markdown",
   "metadata": {},
   "source": [
    "### Conditional Statements: ``if``-``elif``-``else``:"
   ]
  },
  {
   "cell_type": "code",
   "execution_count": 51,
   "metadata": {},
   "outputs": [
    {
     "name": "stdout",
     "output_type": "stream",
     "text": [
      "-1\n"
     ]
    }
   ],
   "source": [
    "# if, elif, and else\n",
    "\n",
    "a = 4\n",
    "b = 5\n",
    "\n",
    "if a > b:           # If satement is true execute below code\n",
    "    print(a + b)\n",
    "elif a < b:         # Check the first if, then treats this block the same as a normal if\n",
    "    print(a - b)\n",
    "else:               # If the if and elif statements are false, this code block is run\n",
    "    print(a * b)"
   ]
  },
  {
   "cell_type": "markdown",
   "metadata": {},
   "source": [
    "### For Loops"
   ]
  },
  {
   "cell_type": "code",
   "execution_count": 52,
   "metadata": {},
   "outputs": [
    {
     "name": "stdout",
     "output_type": "stream",
     "text": [
      "50\n",
      "\n",
      "2\n",
      "3\n",
      "4\n",
      "5\n",
      "6\n",
      "7\n"
     ]
    }
   ],
   "source": [
    "# For Loops\n",
    "\n",
    "count = 0                           # Initilization\n",
    "\n",
    "for index in range(2, 22, 4):       # Start at 2 and go up by 4 until index reaches 22 (22 not included)\n",
    "    count += index\n",
    "\n",
    "print(count)\n",
    "print()\n",
    "\n",
    "lyst = [2, 3, 4, 5, 6, 7]           # Initilization\n",
    "for item in lyst:                   # Loops through each item in lyst\n",
    "    print(item)"
   ]
  },
  {
   "cell_type": "markdown",
   "metadata": {},
   "source": [
    "### While Loops"
   ]
  },
  {
   "cell_type": "code",
   "execution_count": 53,
   "metadata": {},
   "outputs": [
    {
     "name": "stdout",
     "output_type": "stream",
     "text": [
      "8\n",
      "64\n",
      "512\n",
      "4096\n"
     ]
    }
   ],
   "source": [
    "# While Loops\n",
    "\n",
    "val = 1             # Initilization\n",
    "\n",
    "while val < 1000:   # This loop will run until val is over 1000\n",
    "    val *= 8\n",
    "    print(val)"
   ]
  },
  {
   "cell_type": "markdown",
   "metadata": {},
   "source": [
    "### Break and Continue"
   ]
  },
  {
   "cell_type": "code",
   "execution_count": 54,
   "metadata": {},
   "outputs": [
    {
     "name": "stdout",
     "output_type": "stream",
     "text": [
      "1, 2, 3, 4, 5, 7, 8, 9, 10, 11, 13, 14, 15, 16, 17, "
     ]
    }
   ],
   "source": [
    "# Break and Continue\n",
    "\n",
    "for item in range(24):      # Init for loop\n",
    "    if item % 6 == 0:       \n",
    "        continue            # Goes to the next loop directly\n",
    "    elif item % 19 == 0:\n",
    "        break               # Breaks the loop\n",
    "    else:\n",
    "        print(item, end = ', ')"
   ]
  },
  {
   "cell_type": "markdown",
   "metadata": {},
   "source": [
    "# Defining and Using Functions"
   ]
  },
  {
   "cell_type": "markdown",
   "metadata": {},
   "source": [
    "### Using Functions"
   ]
  },
  {
   "cell_type": "code",
   "execution_count": 55,
   "metadata": {},
   "outputs": [
    {
     "name": "stdout",
     "output_type": "stream",
     "text": [
      "THIS IS A STRING\n"
     ]
    }
   ],
   "source": [
    "# Using Functions\n",
    "\n",
    "string = \"This is a string\"     # Init string\n",
    "string = string.upper()         # string.upper() is the function call. .upper() is a method in the string class\n",
    "print(string)                   # Print value"
   ]
  },
  {
   "cell_type": "markdown",
   "metadata": {},
   "source": [
    "### Defining Functions"
   ]
  },
  {
   "cell_type": "code",
   "execution_count": 56,
   "metadata": {},
   "outputs": [
    {
     "name": "stdout",
     "output_type": "stream",
     "text": [
      "22.200000000000003\n",
      "164.28000000000003\n",
      "1215.6720000000003\n"
     ]
    }
   ],
   "source": [
    "# Defining Functions\n",
    "\n",
    "def exFunction(val):\n",
    "    x = val\n",
    "    while x < 1000:\n",
    "        x *= 7.4\n",
    "        print(x)\n",
    "\n",
    "exFunction(3)"
   ]
  },
  {
   "cell_type": "markdown",
   "metadata": {},
   "source": [
    "### Default Argument Values"
   ]
  },
  {
   "cell_type": "code",
   "execution_count": 57,
   "metadata": {},
   "outputs": [
    {
     "name": "stdout",
     "output_type": "stream",
     "text": [
      "7.4\n",
      "54.760000000000005\n",
      "405.22400000000005\n",
      "2998.6576000000005\n"
     ]
    }
   ],
   "source": [
    "# Default Argument Values\n",
    "\n",
    "def exFunction(val = 1):    #Function\n",
    "    x = val\n",
    "    while x < 1000:\n",
    "        x *= 7.4\n",
    "        print(x)\n",
    "\n",
    "exFunction()                #Function Call"
   ]
  },
  {
   "cell_type": "markdown",
   "metadata": {},
   "source": [
    "### ``*args`` and ``**kwargs``: Flexible Arguments"
   ]
  },
  {
   "cell_type": "code",
   "execution_count": 58,
   "metadata": {},
   "outputs": [
    {
     "name": "stdout",
     "output_type": "stream",
     "text": [
      "args:  (234, 567, 980)\n",
      "kwargs:  {'d': 1.2, 'e': 123}\n"
     ]
    }
   ],
   "source": [
    "# Default Args\n",
    "\n",
    "def exFunction(*args, **kwargs):                #Function\n",
    "    print(\"args: \", args)\n",
    "    print(\"kwargs: \", kwargs)\n",
    "\n",
    "exFunction(234, 567, 980, d = 1.2, e = 123)     #Function call"
   ]
  },
  {
   "cell_type": "markdown",
   "metadata": {},
   "source": [
    "### Lambda Functions"
   ]
  },
  {
   "cell_type": "code",
   "execution_count": 59,
   "metadata": {},
   "outputs": [
    {
     "name": "stdout",
     "output_type": "stream",
     "text": [
      "46656\n"
     ]
    }
   ],
   "source": [
    "# Lambda Functions\n",
    "\n",
    "exFunction1 = lambda a, b, c: (a + b) ** c  #Function\n",
    "print(exFunction1(2, 4, 6))                 #Function call"
   ]
  },
  {
   "cell_type": "markdown",
   "metadata": {},
   "source": [
    "# Errors and Exceptions"
   ]
  },
  {
   "cell_type": "markdown",
   "metadata": {},
   "source": [
    "### Runtime Errors"
   ]
  },
  {
   "cell_type": "code",
   "execution_count": 60,
   "metadata": {},
   "outputs": [
    {
     "ename": "TypeError",
     "evalue": "unsupported operand type(s) for +: 'int' and 'str'",
     "output_type": "error",
     "traceback": [
      "\u001b[1;31m---------------------------------------------------------------------------\u001b[0m",
      "\u001b[1;31mTypeError\u001b[0m                                 Traceback (most recent call last)",
      "Cell \u001b[1;32mIn[60], line 3\u001b[0m\n\u001b[0;32m      1\u001b[0m \u001b[38;5;66;03m# Runtime Errors\u001b[39;00m\n\u001b[1;32m----> 3\u001b[0m \u001b[38;5;241;43m123\u001b[39;49m\u001b[43m \u001b[49m\u001b[38;5;241;43m+\u001b[39;49m\u001b[43m \u001b[49m\u001b[38;5;124;43m'\u001b[39;49m\u001b[38;5;124;43mstring\u001b[39;49m\u001b[38;5;124;43m'\u001b[39;49m  \u001b[38;5;66;03m# Example of runtime error\u001b[39;00m\n",
      "\u001b[1;31mTypeError\u001b[0m: unsupported operand type(s) for +: 'int' and 'str'"
     ]
    },
    {
     "ename": "",
     "evalue": "",
     "output_type": "error",
     "traceback": [
      "\u001b[1;31mThe Kernel crashed while executing code in the current cell or a previous cell. \n",
      "\u001b[1;31mPlease review the code in the cell(s) to identify a possible cause of the failure. \n",
      "\u001b[1;31mClick <a href='https://aka.ms/vscodeJupyterKernelCrash'>here</a> for more info. \n",
      "\u001b[1;31mView Jupyter <a href='command:jupyter.viewOutput'>log</a> for further details."
     ]
    }
   ],
   "source": [
    "# Runtime Errors\n",
    "\n",
    "123 + 'string'  # Example of runtime error"
   ]
  },
  {
   "cell_type": "markdown",
   "metadata": {},
   "source": [
    "### Keywords 'try', 'except', 'else', and 'finally'"
   ]
  },
  {
   "cell_type": "code",
   "execution_count": null,
   "metadata": {},
   "outputs": [
    {
     "name": "stdout",
     "output_type": "stream",
     "text": [
      "Runtime Error\n",
      "The finally statement worked correctly.\n"
     ]
    }
   ],
   "source": [
    "# try, except, else, and finally\n",
    "\n",
    "# Error example\n",
    "try:\n",
    "    123 + 'string'\n",
    "except:\n",
    "    print(\"Runtime Error\")\n",
    "else:\n",
    "    print(\"No runtime error\")\n",
    "finally:\n",
    "    print(\"The finally statement worked correctly.\")\n"
   ]
  },
  {
   "cell_type": "code",
   "execution_count": null,
   "metadata": {},
   "outputs": [
    {
     "name": "stdout",
     "output_type": "stream",
     "text": [
      "No runtime error\n",
      "The finally statement worked correctly.\n"
     ]
    }
   ],
   "source": [
    "# try, except, else, and finally\n",
    "\n",
    "# No Error example\n",
    "try:\n",
    "    123 + 123\n",
    "except:\n",
    "    print(\"Runtime Error\")\n",
    "else:\n",
    "    print(\"No runtime error\")\n",
    "finally:\n",
    "    print(\"The finally statement worked correctly.\")\n"
   ]
  },
  {
   "cell_type": "markdown",
   "metadata": {},
   "source": [
    "### Keyword 'raise'"
   ]
  },
  {
   "cell_type": "code",
   "execution_count": null,
   "metadata": {},
   "outputs": [
    {
     "name": "stdout",
     "output_type": "stream",
     "text": [
      "You must have a value input\n"
     ]
    }
   ],
   "source": [
    "# raise\n",
    "\n",
    "# Defining Function\n",
    "def exFunction(val = None):\n",
    "    if val is None:\n",
    "        raise ValueError\n",
    "    x = val\n",
    "    while x < 1000:\n",
    "        x *= 7.4\n",
    "        print(x)\n",
    "\n",
    "#Try except with fail\n",
    "try:\n",
    "    exFunction()\n",
    "except ValueError:\n",
    "    print(\"You must have a value input\")\n",
    "\n"
   ]
  },
  {
   "cell_type": "markdown",
   "metadata": {},
   "source": [
    "# Iterators"
   ]
  },
  {
   "cell_type": "markdown",
   "metadata": {},
   "source": [
    "### Iterators"
   ]
  },
  {
   "cell_type": "code",
   "execution_count": null,
   "metadata": {},
   "outputs": [
    {
     "name": "stdout",
     "output_type": "stream",
     "text": [
      "1 4 9 16 25 "
     ]
    }
   ],
   "source": [
    "# Iterators\n",
    "\n",
    "# Iterating over a list\n",
    "lyst = [1, 2, 3, 4, 5]\n",
    "for item in lyst:\n",
    "    print(item ** 2, end = ' ')"
   ]
  },
  {
   "cell_type": "code",
   "execution_count": null,
   "metadata": {},
   "outputs": [
    {
     "name": "stdout",
     "output_type": "stream",
     "text": [
      "1\n",
      "2\n",
      "3\n"
     ]
    }
   ],
   "source": [
    "# Iterators\n",
    "\n",
    "# Creating an Iterator object\n",
    "lyst2 = [1, 2, 3, 4, 5, 6, 7, 8]\n",
    "I = iter(lyst2)\n",
    "\n",
    "print(next(I))\n",
    "print(next(I))\n",
    "print(next(I))"
   ]
  },
  {
   "cell_type": "markdown",
   "metadata": {},
   "source": [
    "### 'range'"
   ]
  },
  {
   "cell_type": "code",
   "execution_count": null,
   "metadata": {},
   "outputs": [
    {
     "name": "stdout",
     "output_type": "stream",
     "text": [
      "10 12 14 16 18 20 22 24 26 28 30 32 34 36 38 "
     ]
    }
   ],
   "source": [
    "# 'range'\n",
    "\n",
    "# Example of the range function in use, starts at 10 and goes to 40 by 2. \n",
    "for index in range(10, 40, 2):\n",
    "    print(index, end = ' ')"
   ]
  },
  {
   "cell_type": "markdown",
   "metadata": {},
   "source": [
    "### Useful Iterators"
   ]
  },
  {
   "cell_type": "code",
   "execution_count": null,
   "metadata": {},
   "outputs": [
    {
     "name": "stdout",
     "output_type": "stream",
     "text": [
      "0 3\n",
      "1 6\n",
      "2 9\n",
      "3 12\n"
     ]
    }
   ],
   "source": [
    "# Useful Iterators\n",
    "\n",
    "# Enumerate\n",
    "lyst = [3, 6, 9, 12]\n",
    "for index, val in enumerate(lyst):\n",
    "    print(index, val)"
   ]
  },
  {
   "cell_type": "code",
   "execution_count": null,
   "metadata": {},
   "outputs": [
    {
     "name": "stdout",
     "output_type": "stream",
     "text": [
      "4 1\n",
      "9 1\n",
      "4 2\n",
      "23 3\n",
      "70 5\n"
     ]
    }
   ],
   "source": [
    "# Useful Iterators\n",
    "\n",
    "# zip\n",
    "lyst1 = [4, 9, 4, 23, 70]\n",
    "lyst2 = [1, 1, 2, 3, 5]\n",
    "for index, val in zip(lyst1, lyst2):\n",
    "    print(index, val)"
   ]
  },
  {
   "cell_type": "code",
   "execution_count": null,
   "metadata": {},
   "outputs": [
    {
     "name": "stdout",
     "output_type": "stream",
     "text": [
      "0 2 4 6 8 10 12 14 16 18 20 22 "
     ]
    }
   ],
   "source": [
    "# Useful Iterators\n",
    "\n",
    "# map\n",
    "double = lambda x: x * 2\n",
    "for val in map(double, range(12)):\n",
    "    print(val, end=' ')"
   ]
  },
  {
   "cell_type": "markdown",
   "metadata": {},
   "source": [
    "# List Comprehension"
   ]
  },
  {
   "cell_type": "markdown",
   "metadata": {},
   "source": [
    "### Basic List Comprehension"
   ]
  },
  {
   "cell_type": "code",
   "execution_count": null,
   "metadata": {},
   "outputs": [
    {
     "name": "stdout",
     "output_type": "stream",
     "text": [
      "[0, 2, 4, 6, 8, 10, 12, 14, 16, 18, 20, 22, 24, 26, 28, 30, 32, 34, 36, 38, 40, 42]\n",
      "[0, 2, 4, 6, 8, 10, 12, 14, 16, 18, 20, 22, 24, 26, 28, 30, 32, 34, 36, 38, 40, 42]\n"
     ]
    }
   ],
   "source": [
    "# Basic list comprehension\n",
    "\n",
    "# Uncompressed list building\n",
    "lyst = []\n",
    "for index in range(22):\n",
    "    lyst.append(index * 2)\n",
    "print(lyst)\n",
    "\n",
    "# Compressed list Building\n",
    "print([index * 2 for index in range(22)])"
   ]
  },
  {
   "cell_type": "markdown",
   "metadata": {},
   "source": [
    "### Multiple Iteration"
   ]
  },
  {
   "cell_type": "code",
   "execution_count": null,
   "metadata": {},
   "outputs": [
    {
     "name": "stdout",
     "output_type": "stream",
     "text": [
      "[(0, 0), (0, 1), (0, 2), (2, 0), (2, 1), (2, 2), (4, 0), (4, 1), (4, 2), (6, 0), (6, 1), (6, 2)]\n"
     ]
    }
   ],
   "source": [
    "# Multiple iteration\n",
    "\n",
    "print([(index1 * 2, index2) for index1 in range(4) for index2 in range(3)])"
   ]
  },
  {
   "cell_type": "markdown",
   "metadata": {},
   "source": [
    "### Conditionals on the Iterator"
   ]
  },
  {
   "cell_type": "code",
   "execution_count": null,
   "metadata": {},
   "outputs": [
    {
     "name": "stdout",
     "output_type": "stream",
     "text": [
      "[0, 4, 8, 12, 16]\n"
     ]
    }
   ],
   "source": [
    "# Conditionals on the iterator\n",
    "\n",
    "print([index for index in range(20) if index % 4 == 0])"
   ]
  },
  {
   "cell_type": "markdown",
   "metadata": {},
   "source": [
    "# Generators"
   ]
  },
  {
   "cell_type": "markdown",
   "metadata": {},
   "source": [
    "### Generator Expressions"
   ]
  },
  {
   "cell_type": "code",
   "execution_count": null,
   "metadata": {},
   "outputs": [
    {
     "name": "stdout",
     "output_type": "stream",
     "text": [
      "<generator object <genexpr> at 0x0000019405CC5630>\n",
      "[0, 1, 1, 1, 2, 2, 2, 3, 3, 3, 4, 4, 4, 5, 5, 5, 6, 6, 6, 7, 7, 7, 8, 8, 8, 9, 9, 9, 10, 10]\n",
      "[]\n"
     ]
    }
   ],
   "source": [
    "# Generator expressions\n",
    "\n",
    "# Create generator object\n",
    "gen = ((val + 2)//3 for val in range(30))\n",
    "print(gen)\n",
    "\n",
    "# Create list with generator\n",
    "lyst = list(gen)\n",
    "print(lyst)\n",
    "\n",
    "# Generator is used up and not able to be used again\n",
    "lyst2 = list(gen)\n",
    "print(lyst2)\n"
   ]
  },
  {
   "cell_type": "markdown",
   "metadata": {},
   "source": [
    "### Keyword 'yield'"
   ]
  },
  {
   "cell_type": "code",
   "execution_count": null,
   "metadata": {},
   "outputs": [
    {
     "name": "stdout",
     "output_type": "stream",
     "text": [
      "-6 -3 0 3 6 9 12 15 18 21 24 27 30 33 36 39 42 45 48 51 54 57 60 63\n"
     ]
    }
   ],
   "source": [
    "# yield\n",
    "\n",
    "# Create generator function\n",
    "def genValues():\n",
    "    for index in range(24):\n",
    "        yield (index - 2) * 3\n",
    "\n",
    "# Call function can print the generator as a list\n",
    "generator = genValues()\n",
    "print(*generator)"
   ]
  },
  {
   "cell_type": "markdown",
   "metadata": {},
   "source": [
    "# Modules and Packages"
   ]
  },
  {
   "cell_type": "markdown",
   "metadata": {},
   "source": [
    "### The 'import' Statement"
   ]
  },
  {
   "cell_type": "code",
   "execution_count": null,
   "metadata": {},
   "outputs": [
    {
     "name": "stdout",
     "output_type": "stream",
     "text": [
      "3\n"
     ]
    }
   ],
   "source": [
    "# Import Statement\n",
    "\n",
    "import random\n",
    "\n",
    "num = random.randrange(1,5)\n",
    "print(num)"
   ]
  },
  {
   "cell_type": "code",
   "execution_count": null,
   "metadata": {},
   "outputs": [
    {
     "name": "stdout",
     "output_type": "stream",
     "text": [
      "1\n"
     ]
    }
   ],
   "source": [
    "#Import by alias\n",
    "\n",
    "import random as rr\n",
    "\n",
    "num = rr.randrange(1,5)\n",
    "print(num)"
   ]
  },
  {
   "cell_type": "code",
   "execution_count": null,
   "metadata": {},
   "outputs": [
    {
     "name": "stdout",
     "output_type": "stream",
     "text": [
      "5.166081128706219\n"
     ]
    }
   ],
   "source": [
    "# Explicit import of module contents\n",
    "\n",
    "from math import sinh\n",
    "\n",
    "print(sinh(2.3445))"
   ]
  },
  {
   "cell_type": "markdown",
   "metadata": {},
   "source": [
    "# String Manipulation and Regular Expressions"
   ]
  },
  {
   "cell_type": "markdown",
   "metadata": {},
   "source": [
    "### Simple String Manipulation in Python"
   ]
  },
  {
   "cell_type": "code",
   "execution_count": null,
   "metadata": {},
   "outputs": [
    {
     "name": "stdout",
     "output_type": "stream",
     "text": [
      "   THIS IS A STRING    \n",
      "   this is a string    \n",
      "   This Is A String    \n",
      "This is a stRIng\n",
      "This Is A String\n"
     ]
    }
   ],
   "source": [
    "# Simple string manipulation in python\n",
    "\n",
    "string = '   This is a stRIng    '\n",
    "print(string.upper())   # Upper method\n",
    "print(string.lower())   # Lower method\n",
    "print(string.title())   # Title method\n",
    "print(string.strip())   # Strip method\n",
    "\n",
    "# Complete format\n",
    "print(string.strip().title())\n"
   ]
  },
  {
   "cell_type": "markdown",
   "metadata": {},
   "source": [
    "### Format Strings"
   ]
  },
  {
   "cell_type": "code",
   "execution_count": null,
   "metadata": {},
   "outputs": [
    {
     "name": "stdout",
     "output_type": "stream",
     "text": [
      "1234\n",
      "This is a string | arg1: pizza | arg2: burger\n"
     ]
    }
   ],
   "source": [
    "# Format Strings\n",
    "\n",
    "numVal = 1234                       # Cast int as string\n",
    "print(str(numVal))\n",
    "\n",
    "string = \"This is a string |\"       # Format string   \n",
    "string += \" arg1: {0} | arg2: {1}\".format('pizza', 'burger')\n",
    "print(string)"
   ]
  },
  {
   "cell_type": "markdown",
   "metadata": {},
   "source": [
    "### Flexible Pattern Matching with Regular Expressions"
   ]
  },
  {
   "cell_type": "code",
   "execution_count": null,
   "metadata": {},
   "outputs": [
    {
     "name": "stdout",
     "output_type": "stream",
     "text": [
      "['This', 'is', 'a', 'string.', 'It', 'is', 'used', 'for', 'examples']\n",
      "<re.Match object; span=(10, 16), match='string'>\n"
     ]
    }
   ],
   "source": [
    "# Flexible pattern matching with regular expressions example\n",
    "import re\n",
    "\n",
    "string = \"This is a string. It is used for examples\"\n",
    "regex = re.compile(r'\\s')\n",
    "print(regex.split(string))                              # Split example with space\n",
    "\n",
    "regex = re.compile(r'string')\n",
    "print(regex.search(string))                             # Search for the word string"
   ]
  }
 ],
 "metadata": {
  "kernelspec": {
   "display_name": "Python 3",
   "language": "python",
   "name": "python3"
  },
  "language_info": {
   "codemirror_mode": {
    "name": "ipython",
    "version": 3
   },
   "file_extension": ".py",
   "mimetype": "text/x-python",
   "name": "python",
   "nbconvert_exporter": "python",
   "pygments_lexer": "ipython3",
   "version": "3.12.1"
  }
 },
 "nbformat": 4,
 "nbformat_minor": 2
}
