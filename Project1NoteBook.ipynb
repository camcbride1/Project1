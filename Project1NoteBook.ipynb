{
 "cells": [
  {
   "cell_type": "markdown",
   "metadata": {},
   "source": [
    "# Random Number Generator Finding Closest Value of Sums"
   ]
  },
  {
   "cell_type": "markdown",
   "metadata": {},
   "source": [
    "This program will have a main number that is between 1 and 200.\n",
    " \n",
    "A list of 10 numbers inbetween 1 and 100  will be generated. \n",
    "\n",
    "The program will find the combination of numbers that is the closest to the main number. \n",
    "\n",
    "Program will return (-1, -1) if there is no combination"
   ]
  },
  {
   "cell_type": "code",
   "execution_count": 5,
   "metadata": {},
   "outputs": [
    {
     "name": "stdout",
     "output_type": "stream",
     "text": [
      "Main number: 172\n",
      "The list of values possible is: [53, 23, 52, 22, 67, 7, 10, 62, 21, 65]\n",
      "Answer: (67, 62)\n"
     ]
    }
   ],
   "source": [
    "import random\n",
    "\n",
    "# Program Start\n",
    "\n",
    "# Initializations\n",
    "main = random.randrange(1,200)\n",
    "lyst = []\n",
    "answer = (-1, -1)\n",
    "for count in range(10):\n",
    "    lyst.append(random.randrange(1,100))\n",
    "\n",
    "# Find the two numbers closest to the main number when added together\n",
    "for count in range(9):\n",
    "    for count2 in range(count + 1, 9):\n",
    "        if lyst[count] + lyst[count2] > answer[0] + answer[1] and lyst[count] + lyst[count2] <= main:\n",
    "            answer = (lyst[count], lyst[count2])\n",
    "\n",
    "# Display values\n",
    "print(f\"Main number: {main}\")\n",
    "print(f\"The list of values possible is: {lyst}\")\n",
    "print(f\"Answer: {answer}\")"
   ]
  },
  {
   "cell_type": "markdown",
   "metadata": {},
   "source": [
    "Below is the code reformated to be encapsulated into a function."
   ]
  },
  {
   "cell_type": "code",
   "execution_count": 19,
   "metadata": {},
   "outputs": [
    {
     "name": "stdout",
     "output_type": "stream",
     "text": [
      "Main number: 192\n",
      "The list of values possible is: [55, 81, 46, 38, 42, 24, 28, 60, 19, 22]\n",
      "Answer: (81, 60)\n"
     ]
    },
    {
     "ename": "",
     "evalue": "",
     "output_type": "error",
     "traceback": [
      "\u001b[1;31mThe Kernel crashed while executing code in the current cell or a previous cell. \n",
      "\u001b[1;31mPlease review the code in the cell(s) to identify a possible cause of the failure. \n",
      "\u001b[1;31mClick <a href='https://aka.ms/vscodeJupyterKernelCrash'>here</a> for more info. \n",
      "\u001b[1;31mView Jupyter <a href='command:jupyter.viewOutput'>log</a> for further details."
     ]
    }
   ],
   "source": [
    "import random\n",
    "\n",
    "#Function Definition\n",
    "def pick2(inputList, main):\n",
    "    returnValue = (-1,-1)\n",
    "    lyst = inputList\n",
    "    # Find the two numbers closest to the main number when added together\n",
    "    for count in range(9):\n",
    "        for count2 in range(count + 1, 9):\n",
    "            if lyst[count] + lyst[count2] > returnValue[0] + returnValue[1] and lyst[count] + lyst[count2] <= main:\n",
    "                returnValue = (lyst[count], lyst[count2])\n",
    "    return returnValue\n",
    "\n",
    "\n",
    "# Program Start\n",
    "\n",
    "# Initializations\n",
    "main = random.randrange(1,200)\n",
    "lyst = []\n",
    "for count in range(10):\n",
    "    lyst.append(random.randrange(1,100))\n",
    "answer = pick2(lyst, main)\n",
    "\n",
    "# Display values\n",
    "print(f\"Main number: {main}\")\n",
    "print(f\"The list of values possible is: {lyst}\")\n",
    "print(f\"Answer: {answer}\")"
   ]
  }
 ],
 "metadata": {
  "kernelspec": {
   "display_name": "Python 3",
   "language": "python",
   "name": "python3"
  },
  "language_info": {
   "codemirror_mode": {
    "name": "ipython",
    "version": 3
   },
   "file_extension": ".py",
   "mimetype": "text/x-python",
   "name": "python",
   "nbconvert_exporter": "python",
   "pygments_lexer": "ipython3",
   "version": "3.12.1"
  }
 },
 "nbformat": 4,
 "nbformat_minor": 2
}
